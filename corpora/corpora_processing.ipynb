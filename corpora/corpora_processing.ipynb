{
 "cells": [
  {
   "cell_type": "code",
   "execution_count": 6,
   "id": "1e7f9c18",
   "metadata": {},
   "outputs": [],
   "source": [
    "import os, json, glob\n",
    "import pandas as pd\n",
    "import numpy as np\n",
    "import re"
   ]
  },
  {
   "cell_type": "code",
   "execution_count": 9,
   "id": "0b713659",
   "metadata": {},
   "outputs": [],
   "source": [
    "path = '/Users/jazmiahenry/aave/src/corpora'\n",
    "\n",
    "format_txt = os.path.join(path, '*.txt')\n",
    "\n",
    "file_list = glob.glob(format_txt)"
   ]
  },
  {
   "cell_type": "code",
   "execution_count": 10,
   "id": "aea69d34",
   "metadata": {},
   "outputs": [
    {
     "data": {
      "text/plain": [
       "['/Users/jazmiahenry/aave/src/corpora/leadership_corpora.txt',\n",
       " '/Users/jazmiahenry/aave/src/corpora/literature_corpora.txt',\n",
       " '/Users/jazmiahenry/aave/src/corpora/lyrics_corpora.txt',\n",
       " '/Users/jazmiahenry/aave/src/corpora/social_media_corpora.txt']"
      ]
     },
     "execution_count": 10,
     "metadata": {},
     "output_type": "execute_result"
    }
   ],
   "source": [
    "file_list"
   ]
  },
  {
   "cell_type": "code",
   "execution_count": 11,
   "id": "34dcab4d",
   "metadata": {},
   "outputs": [],
   "source": [
    "def PreProcess(x):\n",
    "    lines = []\n",
    "    for files in file_list:\n",
    "        with open(files) as f:\n",
    "            data = f.read()\n",
    "            data = data.lower()          \n",
    "            data = re.sub(r'\\d+', '', data)\n",
    "            newdata = re.sub(r'[^\\w\\s]','',data)\n",
    "            data = re.sub('â,â,â', ' ', newdata, re.IGNORECASE)\n",
    "            filename = 'corpora.txt' \n",
    "        with open(filename, 'w') as f:\n",
    "            f.writelines(data)\n",
    "    print('Done!')"
   ]
  },
  {
   "cell_type": "code",
   "execution_count": 12,
   "id": "e2265bc5",
   "metadata": {},
   "outputs": [
    {
     "name": "stdout",
     "output_type": "stream",
     "text": [
      "Done!\n"
     ]
    }
   ],
   "source": [
    "PreProcess(file_list)"
   ]
  },
  {
   "cell_type": "code",
   "execution_count": null,
   "id": "9035966d",
   "metadata": {},
   "outputs": [],
   "source": []
  }
 ],
 "metadata": {
  "kernelspec": {
   "display_name": "Python 3",
   "language": "python",
   "name": "python3"
  },
  "language_info": {
   "codemirror_mode": {
    "name": "ipython",
    "version": 3
   },
   "file_extension": ".py",
   "mimetype": "text/x-python",
   "name": "python",
   "nbconvert_exporter": "python",
   "pygments_lexer": "ipython3",
   "version": "3.8.8"
  }
 },
 "nbformat": 4,
 "nbformat_minor": 5
}
