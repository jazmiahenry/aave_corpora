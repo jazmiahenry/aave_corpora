{
 "cells": [
  {
   "cell_type": "code",
   "execution_count": 1,
   "id": "547232b5-2616-4043-aee1-7cc21148f352",
   "metadata": {},
   "outputs": [],
   "source": [
    "import math"
   ]
  },
  {
   "cell_type": "code",
   "execution_count": 2,
   "id": "2d3b09b8-6e40-4c92-b9f2-250836cdfcfe",
   "metadata": {},
   "outputs": [],
   "source": [
    "def fact_loop(num):\n",
    "    if num < 0:\n",
    "        return 0\n",
    "    if num == 0:\n",
    "        return 1\n",
    "\n",
    "    factorial = 1\n",
    "    for i in range(1, num + 1):\n",
    "        factorial = factorial * i\n",
    "    return factorial"
   ]
  },
  {
   "cell_type": "code",
   "execution_count": 4,
   "id": "1bb038d5-53c7-4963-9427-840e8de37ff4",
   "metadata": {},
   "outputs": [
    {
     "data": {
      "text/plain": [
       "5040"
      ]
     },
     "execution_count": 4,
     "metadata": {},
     "output_type": "execute_result"
    }
   ],
   "source": [
    "fact_loop(7)"
   ]
  },
  {
   "cell_type": "code",
   "execution_count": 5,
   "id": "021d83b5-84b3-4c77-ad8a-5580f24b96e9",
   "metadata": {},
   "outputs": [],
   "source": [
    "def fact_recursion(num):\n",
    "    if num < 0:\n",
    "        return 0\n",
    "    if num == 0:\n",
    "        return 1\n",
    "\n",
    "    return num * fact_recursion(num - 1)"
   ]
  },
  {
   "cell_type": "code",
   "execution_count": 6,
   "id": "12494e7f-7bed-4731-9b62-ef77074ca4e6",
   "metadata": {},
   "outputs": [
    {
     "data": {
      "text/plain": [
       "5040"
      ]
     },
     "execution_count": 6,
     "metadata": {},
     "output_type": "execute_result"
    }
   ],
   "source": [
    "fact_recursion(7)"
   ]
  },
  {
   "cell_type": "code",
   "execution_count": 7,
   "id": "ce517a28-cd0f-460f-ad74-d4e18218f4fa",
   "metadata": {},
   "outputs": [
    {
     "data": {
      "text/plain": [
       "5040"
      ]
     },
     "execution_count": 7,
     "metadata": {},
     "output_type": "execute_result"
    }
   ],
   "source": [
    "math.factorial(7)"
   ]
  },
  {
   "cell_type": "code",
   "execution_count": 8,
   "id": "153344ee-c544-44cd-8f06-399e5a9f9d41",
   "metadata": {},
   "outputs": [],
   "source": [
    "import timeit"
   ]
  },
  {
   "cell_type": "code",
   "execution_count": 9,
   "id": "31fe10a9-b832-4bab-b1de-1a0bb73df11a",
   "metadata": {},
   "outputs": [
    {
     "data": {
      "text/plain": [
       "0.669349042000249"
      ]
     },
     "execution_count": 9,
     "metadata": {},
     "output_type": "execute_result"
    }
   ],
   "source": [
    "timeit.timeit(\"fact_loop(10)\", globals=globals())"
   ]
  },
  {
   "cell_type": "code",
   "execution_count": 10,
   "id": "3cf62dd6-cfb8-41ba-a1a2-7f0b662ac2ad",
   "metadata": {},
   "outputs": [
    {
     "data": {
      "text/plain": [
       "1.2692210000022897"
      ]
     },
     "execution_count": 10,
     "metadata": {},
     "output_type": "execute_result"
    }
   ],
   "source": [
    "timeit.timeit(\"fact_recursion(10)\", globals=globals())"
   ]
  },
  {
   "cell_type": "code",
   "execution_count": 11,
   "id": "db62febf-d680-4f02-b7f3-9e829a8c94e3",
   "metadata": {},
   "outputs": [
    {
     "data": {
      "text/plain": [
       "0.09958537500278908"
      ]
     },
     "execution_count": 11,
     "metadata": {},
     "output_type": "execute_result"
    }
   ],
   "source": [
    "timeit.timeit(\"math.factorial(10)\", setup=\"import math\")"
   ]
  },
  {
   "cell_type": "code",
   "execution_count": null,
   "id": "43c3d9a0-5de8-4fc7-8db0-a3d40375f34f",
   "metadata": {},
   "outputs": [],
   "source": []
  }
 ],
 "metadata": {
  "kernelspec": {
   "display_name": "Python 3",
   "language": "python",
   "name": "python3"
  },
  "language_info": {
   "codemirror_mode": {
    "name": "ipython",
    "version": 3
   },
   "file_extension": ".py",
   "mimetype": "text/x-python",
   "name": "python",
   "nbconvert_exporter": "python",
   "pygments_lexer": "ipython3",
   "version": "3.8.8"
  }
 },
 "nbformat": 4,
 "nbformat_minor": 5
}
