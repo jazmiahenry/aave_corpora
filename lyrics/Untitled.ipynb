{
 "cells": [
  {
   "cell_type": "code",
   "execution_count": 4,
   "id": "fd4c9ddd",
   "metadata": {},
   "outputs": [],
   "source": [
    "def runthrougharray(array):\n",
    "    for i in array:\n",
    "        print(i)"
   ]
  },
  {
   "cell_type": "code",
   "execution_count": 5,
   "id": "39636eae",
   "metadata": {},
   "outputs": [],
   "source": [
    "array = ['D\\'Angelo', 'Ne-Yo', 'T-Pain', 'Donna Summer', 'Keith Sweat', 'Tevin Campbell']"
   ]
  },
  {
   "cell_type": "code",
   "execution_count": 6,
   "id": "722ec512",
   "metadata": {},
   "outputs": [
    {
     "name": "stdout",
     "output_type": "stream",
     "text": [
      "D'Angelo\n",
      "Ne-Yo\n",
      "T-Pain\n",
      "Donna Summer\n",
      "Keith Sweat\n",
      "Tevin Campbell\n"
     ]
    }
   ],
   "source": [
    "runthrougharray(array)"
   ]
  },
  {
   "cell_type": "code",
   "execution_count": null,
   "id": "21afacfc",
   "metadata": {},
   "outputs": [],
   "source": []
  }
 ],
 "metadata": {
  "kernelspec": {
   "display_name": "Python 3",
   "language": "python",
   "name": "python3"
  },
  "language_info": {
   "codemirror_mode": {
    "name": "ipython",
    "version": 3
   },
   "file_extension": ".py",
   "mimetype": "text/x-python",
   "name": "python",
   "nbconvert_exporter": "python",
   "pygments_lexer": "ipython3",
   "version": "3.8.8"
  }
 },
 "nbformat": 4,
 "nbformat_minor": 5
}
