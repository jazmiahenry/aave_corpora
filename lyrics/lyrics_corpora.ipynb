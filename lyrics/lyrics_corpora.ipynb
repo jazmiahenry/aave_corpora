{
 "cells": [
  {
   "cell_type": "code",
   "execution_count": 14,
   "id": "fd4c9ddd",
   "metadata": {},
   "outputs": [],
   "source": [
    "import os, json, glob\n",
    "import pandas as pd\n",
    "import numpy as np\n",
    "import re"
   ]
  },
  {
   "cell_type": "code",
   "execution_count": 10,
   "id": "6731746b",
   "metadata": {},
   "outputs": [],
   "source": [
    "path = '/Users/jazmiahenry/aave/src/lyrics'\n",
    "\n",
    "format_txt = os.path.join(path, '*.txt')\n",
    "\n",
    "file_list = glob.glob(format_txt)"
   ]
  },
  {
   "cell_type": "code",
   "execution_count": 11,
   "id": "9017bc87",
   "metadata": {},
   "outputs": [
    {
     "data": {
      "text/plain": [
       "['/Users/jazmiahenry/aave/src/lyrics/DeBarge_corpora.txt',\n",
       " '/Users/jazmiahenry/aave/src/lyrics/TinaTurner_corpora.txt',\n",
       " '/Users/jazmiahenry/aave/src/lyrics/FettyWap_corpora.txt',\n",
       " '/Users/jazmiahenry/aave/src/lyrics/Rapsody_corpora.txt',\n",
       " '/Users/jazmiahenry/aave/src/lyrics/Pac_corpora.txt',\n",
       " '/Users/jazmiahenry/aave/src/lyrics/PattiLaBelle_corpora.txt',\n",
       " '/Users/jazmiahenry/aave/src/lyrics/JillScott_corpora.txt',\n",
       " '/Users/jazmiahenry/aave/src/lyrics/DestinysChild_corpora.txt',\n",
       " '/Users/jazmiahenry/aave/src/lyrics/LilKim_corpora.txt',\n",
       " '/Users/jazmiahenry/aave/src/lyrics/NeYo_corpora.txt',\n",
       " '/Users/jazmiahenry/aave/src/lyrics/LilBaby_corpora.txt',\n",
       " '/Users/jazmiahenry/aave/src/lyrics/DionneWarwick_corpora.txt',\n",
       " '/Users/jazmiahenry/aave/src/lyrics/Jodeci_corpora.txt',\n",
       " '/Users/jazmiahenry/aave/src/lyrics/GrandmasterFlash_corpora.txt',\n",
       " '/Users/jazmiahenry/aave/src/lyrics/SugarhillGang_corpora.txt',\n",
       " '/Users/jazmiahenry/aave/src/lyrics/KendrickLamar_corpora.txt',\n",
       " '/Users/jazmiahenry/aave/src/lyrics/SamCooke_corpora.txt',\n",
       " '/Users/jazmiahenry/aave/src/lyrics/ATribeCalledQuest_corpora.txt',\n",
       " '/Users/jazmiahenry/aave/src/lyrics/DianaRoss_corpora.txt',\n",
       " '/Users/jazmiahenry/aave/src/lyrics/DAngelo_corpora.txt',\n",
       " '/Users/jazmiahenry/aave/src/lyrics/EarthaKitt_corpora.txt',\n",
       " '/Users/jazmiahenry/aave/src/lyrics/TI_corpora.txt',\n",
       " '/Users/jazmiahenry/aave/src/lyrics/TheRoots_corpora.txt',\n",
       " '/Users/jazmiahenry/aave/src/lyrics/NinaSimone_corpora.txt',\n",
       " '/Users/jazmiahenry/aave/src/lyrics/ArethaFranklin_corpora.txt',\n",
       " '/Users/jazmiahenry/aave/src/lyrics/JAYZ_corpora.txt',\n",
       " '/Users/jazmiahenry/aave/src/lyrics/QueenLatifah_corpora.txt',\n",
       " '/Users/jazmiahenry/aave/src/lyrics/DonnyHathaway_corpora.txt',\n",
       " '/Users/jazmiahenry/aave/src/lyrics/ErykahBadu_corpora.txt',\n",
       " '/Users/jazmiahenry/aave/src/lyrics/AlGreen_corpora.txt',\n",
       " '/Users/jazmiahenry/aave/src/lyrics/Aaliyah_corpora.txt',\n",
       " '/Users/jazmiahenry/aave/src/lyrics/TalibKweli_corpora.txt',\n",
       " '/Users/jazmiahenry/aave/src/lyrics/LaurynHill_corpora.txt',\n",
       " '/Users/jazmiahenry/aave/src/lyrics/MeekMill_corpora.txt',\n",
       " '/Users/jazmiahenry/aave/src/lyrics/TeddyPendergrass_corpora.txt',\n",
       " '/Users/jazmiahenry/aave/src/lyrics/TevinCampbell_corpora.txt',\n",
       " '/Users/jazmiahenry/aave/src/lyrics/MaryJBlige_corpora.txt',\n",
       " '/Users/jazmiahenry/aave/src/lyrics/KRSOne_corpora.txt',\n",
       " '/Users/jazmiahenry/aave/src/lyrics/BlackThought_corpora.txt',\n",
       " '/Users/jazmiahenry/aave/src/lyrics/TheGame_corpora.txt',\n",
       " '/Users/jazmiahenry/aave/src/lyrics/Nas_corpora.txt',\n",
       " '/Users/jazmiahenry/aave/src/lyrics/LionelRichie_corpora.txt',\n",
       " '/Users/jazmiahenry/aave/src/lyrics/Babyface_corpora.txt',\n",
       " '/Users/jazmiahenry/aave/src/lyrics/DJJazzyJeffTheFreshPrince_corpora.txt',\n",
       " '/Users/jazmiahenry/aave/src/lyrics/PublicEnemy_corpora.txt',\n",
       " '/Users/jazmiahenry/aave/src/lyrics/KeithSweat_corpora.txt',\n",
       " '/Users/jazmiahenry/aave/src/lyrics/EllaFitzgerald_corpora.txt',\n",
       " '/Users/jazmiahenry/aave/src/lyrics/AnitaBaker_corpora.txt',\n",
       " '/Users/jazmiahenry/aave/src/lyrics/RickRoss_corpora.txt',\n",
       " '/Users/jazmiahenry/aave/src/lyrics/JohnLegend_corpora.txt',\n",
       " '/Users/jazmiahenry/aave/src/lyrics/ChakaKhan_corpora.txt',\n",
       " '/Users/jazmiahenry/aave/src/lyrics/CurtisMayfield_corpora.txt',\n",
       " '/Users/jazmiahenry/aave/src/lyrics/BunB_corpora.txt',\n",
       " '/Users/jazmiahenry/aave/src/lyrics/LMFAO_corpora.txt',\n",
       " '/Users/jazmiahenry/aave/src/lyrics/TPain_corpora.txt',\n",
       " '/Users/jazmiahenry/aave/src/lyrics/NWA_corpora.txt']"
      ]
     },
     "execution_count": 11,
     "metadata": {},
     "output_type": "execute_result"
    }
   ],
   "source": [
    "file_list"
   ]
  },
  {
   "cell_type": "code",
   "execution_count": 15,
   "id": "722ec512",
   "metadata": {},
   "outputs": [],
   "source": [
    "def PreProcess(x):\n",
    "    lines = []\n",
    "    for files in file_list:\n",
    "        with open(files) as f:\n",
    "            data = f.read()\n",
    "            data = data.lower()          \n",
    "            data = re.sub(r'\\d+', '', data)\n",
    "            newdata = re.sub(r'[^\\w\\s]','',data)\n",
    "            data = re.sub('â,â,â', ' ', newdata, re.IGNORECASE)\n",
    "            filename = 'lyrics_corpora.txt' \n",
    "        with open(filename, 'w') as f:\n",
    "            f.writelines(data)\n",
    "    print('Done!')"
   ]
  },
  {
   "cell_type": "code",
   "execution_count": 16,
   "id": "21afacfc",
   "metadata": {
    "scrolled": true
   },
   "outputs": [
    {
     "name": "stdout",
     "output_type": "stream",
     "text": [
      "Done!\n"
     ]
    }
   ],
   "source": [
    "PreProcess(file_list)"
   ]
  },
  {
   "cell_type": "code",
   "execution_count": null,
   "id": "274914d8",
   "metadata": {},
   "outputs": [],
   "source": []
  }
 ],
 "metadata": {
  "kernelspec": {
   "display_name": "Python 3",
   "language": "python",
   "name": "python3"
  },
  "language_info": {
   "codemirror_mode": {
    "name": "ipython",
    "version": 3
   },
   "file_extension": ".py",
   "mimetype": "text/x-python",
   "name": "python",
   "nbconvert_exporter": "python",
   "pygments_lexer": "ipython3",
   "version": "3.8.8"
  }
 },
 "nbformat": 4,
 "nbformat_minor": 5
}
