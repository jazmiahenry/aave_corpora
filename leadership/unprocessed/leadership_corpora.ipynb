{
 "cells": [
  {
   "cell_type": "code",
   "execution_count": 1,
   "id": "520edb22",
   "metadata": {},
   "outputs": [],
   "source": [
    "import os, json, glob\n",
    "import pandas as pd\n",
    "import numpy as np\n",
    "import re"
   ]
  },
  {
   "cell_type": "code",
   "execution_count": 6,
   "id": "d7e14039",
   "metadata": {},
   "outputs": [],
   "source": [
    "path = '/Users/jazmiahenry/aave/src/leadership/famous_speeches'\n",
    "\n",
    "format_txt = os.path.join(path, '*.txt')\n",
    "\n",
    "file_list = glob.glob(format_txt)"
   ]
  },
  {
   "cell_type": "code",
   "execution_count": 7,
   "id": "b13ea554",
   "metadata": {},
   "outputs": [
    {
     "data": {
      "text/plain": [
       "['/Users/jazmiahenry/aave/src/literature/literature_unprocessed/Johnson_KeytotheProblem.txt',\n",
       " '/Users/jazmiahenry/aave/src/literature/literature_unprocessed/Johnson_TheMurderLink.txt',\n",
       " '/Users/jazmiahenry/aave/src/literature/literature_unprocessed/Gilmore_TheProblem.txt',\n",
       " '/Users/jazmiahenry/aave/src/literature/literature_unprocessed/Coleman_PoorBen.txt',\n",
       " '/Users/jazmiahenry/aave/src/literature/literature_unprocessed/Shackelford_LillianSimmons.txt',\n",
       " '/Users/jazmiahenry/aave/src/literature/literature_unprocessed/Brown_Clotel.txt',\n",
       " '/Users/jazmiahenry/aave/src/literature/literature_unprocessed/Johnson_TheFamily.txt',\n",
       " '/Users/jazmiahenry/aave/src/literature/literature_unprocessed/Tracy_SwordofNemesis.txt',\n",
       " '/Users/jazmiahenry/aave/src/literature/literature_unprocessed/Webb_GariesandTheirFriends.txt',\n",
       " '/Users/jazmiahenry/aave/src/literature/literature_unprocessed/Full text of _A Raisin In the Sun - Lorraine Hansberry_.txt',\n",
       " '/Users/jazmiahenry/aave/src/literature/literature_unprocessed/Bennett_AGrotesqueLegendofOldCharleston.txt',\n",
       " '/Users/jazmiahenry/aave/src/literature/literature_unprocessed/Griggs_HinderedHand.txt',\n",
       " '/Users/jazmiahenry/aave/src/literature/literature_unprocessed/Chesnutt_TheColonelsDream.txt',\n",
       " '/Users/jazmiahenry/aave/src/literature/literature_unprocessed/Nash_LoveVengeance.txt',\n",
       " '/Users/jazmiahenry/aave/src/literature/literature_unprocessed/Downing_TheAmericanCalvaryman.txt',\n",
       " '/Users/jazmiahenry/aave/src/literature/literature_unprocessed/Bruce_AwakeningofHezekiahJones.txt',\n",
       " '/Users/jazmiahenry/aave/src/literature/literature_unprocessed/Dunbar_TheUncalled.txt',\n",
       " '/Users/jazmiahenry/aave/src/literature/literature_unprocessed/Durham_DianePriestessofHaiti.txt',\n",
       " '/Users/jazmiahenry/aave/src/literature/literature_unprocessed/Johnson_AutobiographyofanExColoredMan.txt',\n",
       " '/Users/jazmiahenry/aave/src/literature/literature_unprocessed/Jones_HeartsofGold.txt',\n",
       " '/Users/jazmiahenry/aave/src/literature/literature_unprocessed/Fullilove_WhoWasResponsible.txt',\n",
       " '/Users/jazmiahenry/aave/src/literature/literature_unprocessed/Roberts_TheMindReader.txt',\n",
       " '/Users/jazmiahenry/aave/src/literature/literature_unprocessed/Kelly_Megda.txt',\n",
       " '/Users/jazmiahenry/aave/src/literature/literature_unprocessed/Griggs_Overshadowed.txt',\n",
       " '/Users/jazmiahenry/aave/src/literature/literature_unprocessed/Micheaux_TheForgedNoteARomanceoftheDarkerRaces.txt',\n",
       " '/Users/jazmiahenry/aave/src/literature/literature_unprocessed/Dunbar_TheLoveofLandry.txt',\n",
       " '/Users/jazmiahenry/aave/src/literature/literature_unprocessed/Burgess_AveMariaATale.txt',\n",
       " '/Users/jazmiahenry/aave/src/literature/literature_unprocessed/Detter_NellieBrownOrTheJealousWife.txt',\n",
       " '/Users/jazmiahenry/aave/src/literature/literature_unprocessed/Chesnutt_HouseBehindtheCedars.txt',\n",
       " '/Users/jazmiahenry/aave/src/literature/literature_unprocessed/Dunbar_TheFanatics.txt',\n",
       " '/Users/jazmiahenry/aave/src/literature/literature_unprocessed/Wilson_OurNig.txt',\n",
       " '/Users/jazmiahenry/aave/src/literature/literature_unprocessed/Harper_IolaLeroy.txt',\n",
       " '/Users/jazmiahenry/aave/src/literature/literature_unprocessed/Steward_CharlestonLoveStory.txt',\n",
       " '/Users/jazmiahenry/aave/src/literature/literature_unprocessed/Dreer_TheImmediateJewelofHisSoul.txt',\n",
       " '/Users/jazmiahenry/aave/src/literature/literature_unprocessed/Walker_RevelationTrialandExileofJohnEpics.txt',\n",
       " '/Users/jazmiahenry/aave/src/literature/literature_unprocessed/Chesnutt_TheMarrowofTradition.txt',\n",
       " '/Users/jazmiahenry/aave/src/literature/literature_unprocessed/Walker_TheUnknownManAnAnswertoMrThomDixonsSinsoftheFathers.txt',\n",
       " '/Users/jazmiahenry/aave/src/literature/literature_unprocessed/Jones_TheClimbersAStoryofSunkissedSweethearts.txt',\n",
       " '/Users/jazmiahenry/aave/src/literature/literature_unprocessed/Ashby_RedderBlood.txt',\n",
       " '/Users/jazmiahenry/aave/src/literature/literature_unprocessed/Micheaux_TheHomesteader.txt',\n",
       " '/Users/jazmiahenry/aave/src/literature/literature_unprocessed/Griggs_UnfetteredANovel.txt',\n",
       " '/Users/jazmiahenry/aave/src/literature/literature_unprocessed/Walker_TheUnknownManAnAnswertoMrThosDixonsSinsoftheFather.txt',\n",
       " '/Users/jazmiahenry/aave/src/literature/literature_unprocessed/crc_ci_vol_two_0_1_0.txt',\n",
       " '/Users/jazmiahenry/aave/src/literature/literature_unprocessed/Fleming_ HopesHighway.txt',\n",
       " '/Users/jazmiahenry/aave/src/literature/literature_unprocessed/Ellis_LeopardsClaw.txt',\n",
       " '/Users/jazmiahenry/aave/src/literature/literature_unprocessed/Dubois_QuestoftheSilverFleece.txt',\n",
       " '/Users/jazmiahenry/aave/src/literature/literature_unprocessed/Dunbar_TheSportoftheGods.txt',\n",
       " '/Users/jazmiahenry/aave/src/literature/literature_unprocessed/Waring_AsWeSeeIt.txt',\n",
       " '/Users/jazmiahenry/aave/src/literature/literature_unprocessed/Micheaux_ConquestTheStoryofaNegroPioneer.txt',\n",
       " '/Users/jazmiahenry/aave/src/literature/literature_unprocessed/Blackson_RiseandProgressoftheKingdomsofLightandDarkness.txt',\n",
       " '/Users/jazmiahenry/aave/src/literature/literature_unprocessed/Grant_OutoftheDarknessOrDiabolismandDestiny.txt',\n",
       " '/Users/jazmiahenry/aave/src/literature/literature_unprocessed/Griggs_PointingtheWay.txt',\n",
       " '/Users/jazmiahenry/aave/src/literature/literature_unprocessed/Griggs_ImperiuminImperio.txt',\n",
       " '/Users/jazmiahenry/aave/src/literature/literature_unprocessed/Franklin_CrimsonAlters.txt']"
      ]
     },
     "execution_count": 7,
     "metadata": {},
     "output_type": "execute_result"
    }
   ],
   "source": [
    "file_list"
   ]
  },
  {
   "cell_type": "code",
   "execution_count": 8,
   "id": "d308711a",
   "metadata": {},
   "outputs": [],
   "source": [
    "def PreProcess(x):\n",
    "    lines = []\n",
    "    for files in file_list:\n",
    "        with open(files) as f:\n",
    "            data = f.read()\n",
    "            data = data.lower()          \n",
    "            data = re.sub(r'\\d+', '', data)\n",
    "            newdata = re.sub(r'[^\\w\\s]','',data)\n",
    "            data = re.sub('â,â,â', ' ', newdata, re.IGNORECASE)\n",
    "            filename = 'leadership_corpora.txt' \n",
    "        with open(filename, 'w') as f:\n",
    "            f.writelines(data)\n",
    "    print('Done!')"
   ]
  },
  {
   "cell_type": "code",
   "execution_count": 9,
   "id": "8885cb96",
   "metadata": {},
   "outputs": [
    {
     "name": "stdout",
     "output_type": "stream",
     "text": [
      "Done!\n"
     ]
    }
   ],
   "source": [
    "PreProcess(file_list)"
   ]
  },
  {
   "cell_type": "code",
   "execution_count": null,
   "id": "57acdb94",
   "metadata": {},
   "outputs": [],
   "source": []
  }
 ],
 "metadata": {
  "kernelspec": {
   "display_name": "Python 3",
   "language": "python",
   "name": "python3"
  },
  "language_info": {
   "codemirror_mode": {
    "name": "ipython",
    "version": 3
   },
   "file_extension": ".py",
   "mimetype": "text/x-python",
   "name": "python",
   "nbconvert_exporter": "python",
   "pygments_lexer": "ipython3",
   "version": "3.8.8"
  }
 },
 "nbformat": 4,
 "nbformat_minor": 5
}
